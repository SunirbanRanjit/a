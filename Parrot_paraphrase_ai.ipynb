{
  "nbformat": 4,
  "nbformat_minor": 0,
  "metadata": {
    "colab": {
      "name": "Parrot_paraphrase_ai.ipynb",
      "provenance": [],
      "authorship_tag": "ABX9TyPuNQ33WWZO7TZ8yxlJd7yq",
      "include_colab_link": true
    },
    "kernelspec": {
      "name": "python3",
      "display_name": "Python 3"
    },
    "language_info": {
      "name": "python"
    },
    "accelerator": "GPU",
    "gpuClass": "standard"
  },
  "cells": [
    {
      "cell_type": "markdown",
      "metadata": {
        "id": "view-in-github",
        "colab_type": "text"
      },
      "source": [
        "<a href=\"https://colab.research.google.com/github/SunirbanRanjit/a/blob/main/Parrot_paraphrase_ai.ipynb\" target=\"_parent\"><img src=\"https://colab.research.google.com/assets/colab-badge.svg\" alt=\"Open In Colab\"/></a>"
      ]
    },
    {
      "cell_type": "code",
      "source": [
        "! pip install git+https://github.com/PrithivirajDamodaran/Parrot.git"
      ],
      "metadata": {
        "id": "1IH4V3yL5zHV"
      },
      "execution_count": null,
      "outputs": []
    },
    {
      "cell_type": "code",
      "source": [
        "from parrot import Parrot\n",
        "import torch\n",
        "import warnings\n",
        "warnings.filterwarnings(\"ignore\")"
      ],
      "metadata": {
        "id": "kUcVJtxE6Z4I"
      },
      "execution_count": 4,
      "outputs": []
    },
    {
      "cell_type": "code",
      "source": [
        "# For reproducibility\n",
        "def random_state(seed):\n",
        "  torch.manual_seed(seed)\n",
        "  if torch.cuda.is_available():\n",
        "    torch.cuda.manual_seed_all(seed)\n",
        "\n",
        "random_state(1234)\n"
      ],
      "metadata": {
        "id": "vGmHbRl56fBo"
      },
      "execution_count": 8,
      "outputs": []
    },
    {
      "cell_type": "code",
      "source": [
        "#Init models (make sure you init ONLY once if you integrate this to your code)\n",
        "parrot = Parrot(model_tag=\"prithivida/parrot_paraphraser_on_T5\", use_gpu=False)"
      ],
      "metadata": {
        "id": "wtxe-Xg26vut"
      },
      "execution_count": 9,
      "outputs": []
    },
    {
      "cell_type": "code",
      "source": [
        "paragraph = \"The binary (d, k) codes that find application on input restricted channels, such as digital magnetic recorders [5] or digital optical recorders [6]. \""
      ],
      "metadata": {
        "id": "NZAu4_Rp7aUG"
      },
      "execution_count": 58,
      "outputs": []
    },
    {
      "cell_type": "code",
      "source": [
        "import re\n",
        "phrases = paragraph.split(\".\")\n",
        "\n",
        "temp = []\n",
        "for i in range(len(phrases)):\n",
        "  try:\n",
        "    found = re.findall(r'\\[.+\\]', phrases[i])\n",
        "  except AttributeError:\n",
        "    # AAA, ZZZ not found in the original string\n",
        "    found = '' # apply your error handling\n",
        "  temp.append([i,found])\n",
        "  phrases[i] = re.sub(\"\\[.*?\\]\", \"\", phrases[i])\n",
        "#print(phrases, temp)\n",
        "\n",
        "i=0\n",
        "output = \"\"\n",
        "for phrase in phrases:\n",
        "  print(\"Input_phrase: \", phrase)\n",
        "  para_phrases = parrot.augment(input_phrase=phrase)\n",
        "  try:\n",
        "    citation = temp[i][1][0]\n",
        "  except:\n",
        "    citation = \" \"\n",
        "  try:\n",
        "    expression = para_phrases[0][0]\n",
        "  except:\n",
        "   expression = \" \"\n",
        "  output = output + expression + citation + \". \"\n",
        "  i = i+ 1\n",
        "print(output)"
      ],
      "metadata": {
        "colab": {
          "base_uri": "https://localhost:8080/"
        },
        "id": "ckEI35jb7gHE",
        "outputId": "bd0687ed-be72-4b49-c5e2-3b1fc687b4c7"
      },
      "execution_count": 59,
      "outputs": [
        {
          "output_type": "stream",
          "name": "stdout",
          "text": [
            "Input_phrase:  The binary (d, k) codes that find application on input restricted channels, such as digital magnetic recorders  or digital optical recorders \n",
            "Input_phrase:   \n",
            "binary codes d k that find application on input restricted channels such as digital magnetic recorders or digital optical recorders d[5] or digital optical recorders [6].   . \n"
          ]
        }
      ]
    }
  ]
}